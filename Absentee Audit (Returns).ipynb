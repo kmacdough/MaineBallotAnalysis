{
 "cells": [
  {
   "cell_type": "code",
   "execution_count": null,
   "metadata": {},
   "outputs": [],
   "source": [
    "import pandas                  as pd\n",
    "import numpy                   as np\n",
    "import pathlib\n",
    "import urllib"
   ]
  },
  {
   "cell_type": "markdown",
   "metadata": {},
   "source": [
    "## Save the file locally if it's not there (makes tweaking faster)"
   ]
  },
  {
   "cell_type": "code",
   "execution_count": null,
   "metadata": {},
   "outputs": [],
   "source": [
    "DATA_URL = 'https://www.maine.gov/sos/cec/elec/data/absentee-voter-file.txt'\n",
    "INPUT_FILENAME = './data/absentee-voter-file.txt'\n",
    "# Supported formats: 'xlsx', 'inline'\n",
    "OUTPUT_FORMAT = 'xlsx'\n",
    "OUTPUT_FILENAME = './output/absentee-analysis-returns-full.xlsx'"
   ]
  },
  {
   "cell_type": "code",
   "execution_count": null,
   "metadata": {},
   "outputs": [],
   "source": [
    "# Download file if it doesn't already exist. Create directories if necessary.\n",
    "input_path = pathlib.Path(INPUT_FILENAME)\n",
    "input_path.parents[0].mkdir(parents=True, exist_ok=True)\n",
    "if not input_path.exists():\n",
    "    urllib.request.urlretrieve(DATA_URL, input_path)"
   ]
  },
  {
   "cell_type": "code",
   "execution_count": null,
   "metadata": {},
   "outputs": [],
   "source": [
    "# Read back the downloaded file.\n",
    "raw_data = pd.read_csv(input_path, sep='|', skipfooter=5, engine='python')\n",
    "raw_data.head()"
   ]
  },
  {
   "cell_type": "markdown",
   "metadata": {},
   "source": [
    "## Some constants. Honestly more for reference at the moment."
   ]
  },
  {
   "cell_type": "code",
   "execution_count": null,
   "metadata": {},
   "outputs": [],
   "source": [
    "REJECT_REASONS = {\n",
    "    'ANC': 'AIDE CERTIFICATE NOT PROPERLY COMPLETED',\n",
    "    'BND': 'BALLOT NOT RECEIVED BY DEADLINE DATE',\n",
    "    'BRU': 'BALLOT RETURNED AS UNDELIVERABLE',\n",
    "    'DBR': 'DUPLICATE BALLOT RECEIVED',\n",
    "    'ENS': 'ENVELOPE NOT SIGNED BY VOTER',\n",
    "    'NEN': 'NOT ENROLLED WHEN NECESSARY',\n",
    "    'NRV': 'NOT A REGISTERED VOTER',\n",
    "    'OTH': 'OTHER',\n",
    "    'RAD': 'RECEIVED AFTER DEADLINE DATE',\n",
    "    'SBV': 'SPOILED BY VOTER',\n",
    "    'SNM': 'SIGNATURE ON APPLICATION AND ENVELOPE DO NOT MATCH',\n",
    "    'VIP': 'VOTED IN PERSON',\n",
    "    'WNC': 'WITNESS CERTIFICATE NOT PROPERLY COMPLETED',\n",
    "}\n",
    "\n",
    "COLUMN_NAMES = {\n",
    "    'MUNICIPALITY': 'MUNCIPALITY',\n",
    "    'CH': 'CHALLENGE INDICATOR',\n",
    "    'DES': 'SPECIAL DESIGNATORS',\n",
    "    'VOTER ID': 'VOTER ID (VOTER RECORD #)',\n",
    "    'P': 'ENROLLMENT',\n",
    "    'W/P': 'WARD/PRECINCT',\n",
    "    'CG': 'CONGRESSIONAL DISTRICT',\n",
    "    'SS': 'STATE SENATE',\n",
    "    'SR': 'STATE REPRESENTATIVE',\n",
    "    'CC': 'COUNTY COMMISSIONER DISTRICT',\n",
    "    'REQTYPE': 'REQUEST RECEIVED BY',\n",
    "    'REQDATE': 'REQUEST',\n",
    "    'REQDEN':  'ACCEPT/REJECTED',\n",
    "    'ISSTYPE': 'BALLOT SENT BY',\n",
    "    'ISSDATE': 'BALLOT SENT',\n",
    "    'RECTYPE': 'BALLOT RECEIVED BY',\n",
    "    'RECDATE': 'BALLOT RECEIVED',\n",
    "    'DUP': 'DUPLICATE BALLOT SEQUENCE NUMBER',\n",
    "    'ACC OR REJ': 'ACCEPTED/REJECTED',\n",
    "    'REJRSN': 'REJECT REASON',\n",
    "}\n",
    "\n",
    "PARTY_CODES = {\n",
    "    'B': 'AMERICAN DELTA',\n",
    "    'D': 'DEMOCRATIC',\n",
    "    'G': 'GREEN INDEPENDENT',\n",
    "    'L': 'LIBERTARIAN',\n",
    "    'O': 'OTHER QUALIFYING PARTY',\n",
    "    'P': 'PROGRESSIVE',\n",
    "    'R': 'REPUBLICAN',\n",
    "    'U': 'UNENROLLED',\n",
    "}"
   ]
  },
  {
   "cell_type": "markdown",
   "metadata": {},
   "source": [
    "## Group Data on `MUNICIPALITY` and `P` (Registered Party)"
   ]
  },
  {
   "cell_type": "code",
   "execution_count": null,
   "metadata": {},
   "outputs": [],
   "source": [
    "grouped = raw_data.groupby(['MUNICIPALITY','P'])\n",
    "grouped_rejected_ens = raw_data[raw_data['REJRSN'] == \"ENS\"].groupby(['MUNICIPALITY','P'])\n",
    "\n",
    "COUNT_NA_COLUMNS = ['ISSDATE', 'RECDATE']\n",
    "COUNT_VALUE_COLUMNS = ['RECTYPE']\n",
    "\n",
    "application_counts = grouped['VOTER ID'].count()\n",
    "rejected_ens_counts = grouped_rejected_ens['REJRSN'].count()\n",
    "rectype_counts = grouped_rejected_ens['RECTYPE'].value_counts().unstack(fill_value=0)\n",
    "\n",
    "# Reindex based on counts inded (includes VOTER ID count) to avoid casting to float\n",
    "all_frames = [application_counts, rejected_ens_counts, rectype_counts]\n",
    "reindexed_frames = [frame.reindex(application_counts.index, fill_value=0) for frame in all_frames]\n",
    "\n",
    "# Combine into one table\n",
    "combined = pd.concat(reindexed_frames, axis=1)\n",
    "combined.head()\n"
   ]
  },
  {
   "cell_type": "markdown",
   "metadata": {},
   "source": [
    "## Rename Columns to be cleaner"
   ]
  },
  {
   "cell_type": "code",
   "execution_count": null,
   "metadata": {},
   "outputs": [],
   "source": [
    "rename_columns = {\n",
    "    \"VOTER ID\": \"APPS\",\n",
    "    \"REJRSN\": \"REJRSN/ENS\",\n",
    "}\n",
    "renamed = combined.rename(columns=rename_columns)\n",
    "renamed.head()"
   ]
  },
  {
   "cell_type": "markdown",
   "metadata": {},
   "source": [
    "## Add Statewide Section"
   ]
  },
  {
   "cell_type": "code",
   "execution_count": null,
   "metadata": {},
   "outputs": [],
   "source": [
    "state_totals = renamed.unstack(fill_value=0).sum(0).to_frame().unstack(0)\n",
    "state_totals.index = pd.MultiIndex.from_tuples([(\"AA_STATEWIDE\", party) for party in state_totals.index])\n",
    "state_totals.index.names = [\"MUNICIPALITY\", \"P\"]\n",
    "state_totals.columns = state_totals.columns.droplevel(0)\n",
    "\n",
    "state_totaled = pd.concat([state_totals, renamed])\n",
    "state_totaled.head(10)"
   ]
  },
  {
   "cell_type": "markdown",
   "metadata": {},
   "source": [
    "## Add Total Rows for each Municipality"
   ]
  },
  {
   "cell_type": "code",
   "execution_count": null,
   "metadata": {},
   "outputs": [],
   "source": [
    "town_sums = state_totaled.groupby(\"MUNICIPALITY\").sum()\n",
    "town_sums[\"P\"] = \"_TOT\"\n",
    "town_sums = town_sums.set_index(\"P\", append=True)\n",
    "with_sums = pd.concat([state_totaled, town_sums]).sort_index(level=0)\n",
    "with_sums.head(10)"
   ]
  },
  {
   "cell_type": "markdown",
   "metadata": {},
   "source": [
    "## Sanity Checks"
   ]
  },
  {
   "cell_type": "code",
   "execution_count": null,
   "metadata": {},
   "outputs": [],
   "source": [
    "# Check REJECTED (ANC) = sum(<Reject Reasons>)\n",
    "display(all(with_sums['REJRSN/ENS'] == with_sums[['DV', 'IF', 'MA', 'TP', 'VP']].sum(1)))"
   ]
  },
  {
   "cell_type": "markdown",
   "metadata": {},
   "source": [
    "## Remove Towns with < 5 ANC Rejections"
   ]
  },
  {
   "cell_type": "code",
   "execution_count": null,
   "metadata": {},
   "outputs": [],
   "source": [
    "municipalities = with_sums.index.levels[0]\n",
    "municipalities_with_rejections = with_sums[with_sums['REJRSN/ENS'] >= 0].\\\n",
    "    index.get_level_values('MUNICIPALITY').unique().tolist()\n",
    "\n",
    "with_rejections = with_sums.loc[municipalities_with_rejections]\n",
    "f'Kept {len(municipalities_with_rejections)} of {len(municipalities)} Municipalities'"
   ]
  },
  {
   "cell_type": "markdown",
   "metadata": {},
   "source": [
    "## Add percents to columns"
   ]
  },
  {
   "cell_type": "code",
   "execution_count": null,
   "metadata": {},
   "outputs": [],
   "source": [
    "APPS_PERCENT_COLUMNS = ['REJRSN/ENS']\n",
    "REJ_PERCENT_COLUMNS = ['DV', 'IF', 'MA', 'TP', 'VP']\n",
    "PERCENT_COLUMNS = APPS_PERCENT_COLUMNS + REJ_PERCENT_COLUMNS\n",
    "\n",
    "apps_fractions = with_rejections[APPS_PERCENT_COLUMNS].div(with_rejections['APPS'], axis=0)\n",
    "rej_fractions = with_rejections[REJ_PERCENT_COLUMNS].div(with_rejections['REJRSN/ENS'], axis=0)\n",
    "fractions = pd.concat([apps_fractions, rej_fractions], axis=1).fillna(0)\n",
    "with_fractions = pd.concat([with_rejections, fractions], axis=1, keys=[\"NUM\", \"%\"])\n",
    "\n",
    "# rearrange index to be user-friendly\n",
    "swapped = with_fractions.swaplevel(0,1, axis=1)\n",
    "new_index = pd.MultiIndex.from_tuples([('APPS', 'NUM'), *[(col, attr) for col in PERCENT_COLUMNS for attr in ['NUM', '%']]])\n",
    "reindexed = swapped.reindex(columns=new_index)\n"
   ]
  },
  {
   "cell_type": "markdown",
   "metadata": {},
   "source": [
    "## Format and save to file"
   ]
  },
  {
   "cell_type": "code",
   "execution_count": null,
   "metadata": {},
   "outputs": [],
   "source": [
    "styled = reindexed.style.format(\n",
    "    dict(zip([(col, '%') for col in PERCENT_COLUMNS], ['{:,.2%}'.format] * len(PERCENT_COLUMNS)))\n",
    ")\n",
    "\n",
    "if OUTPUT_FORMAT == 'inline':\n",
    "    display(styled)\n",
    "elif OUTPUT_FORMAT == 'xlsx':\n",
    "    path = pathlib.Path(OUTPUT_FILENAME)\n",
    "    path.parents[0].mkdir(parents=True, exist_ok=True)\n",
    "    styled.to_excel(str(path))"
   ]
  },
  {
   "cell_type": "code",
   "execution_count": null,
   "metadata": {},
   "outputs": [],
   "source": []
  }
 ],
 "metadata": {
  "language_info": {
   "name": "python",
   "pygments_lexer": "ipython3"
  }
 },
 "nbformat": 4,
 "nbformat_minor": 2
}
