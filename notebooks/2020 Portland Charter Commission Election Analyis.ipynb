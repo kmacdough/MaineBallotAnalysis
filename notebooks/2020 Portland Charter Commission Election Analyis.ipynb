{
 "cells": [
  {
   "cell_type": "markdown",
   "metadata": {},
   "source": [
    "# 2020 Portland Town Council Analysis\r\n",
    "Looking at how well different voter groups were represented by the results."
   ]
  },
  {
   "cell_type": "markdown",
   "metadata": {},
   "source": [
    "## Setup"
   ]
  },
  {
   "cell_type": "code",
   "execution_count": 38,
   "metadata": {},
   "outputs": [
    {
     "name": "stdout",
     "output_type": "stream",
     "text": [
      "The autoreload extension is already loaded. To reload it, use:\n",
      "  %reload_ext autoreload\n"
     ]
    }
   ],
   "source": [
    "import pandas as pd\r\n",
    "import numpy as np\r\n",
    "import sys\r\n",
    "\r\n",
    "from functools import reduce\r\n",
    "from datetime import datetime\r\n",
    "from pathlib import Path\r\n",
    "from itertools import combinations\r\n",
    "\r\n",
    "sys.path.append('../src')\r\n",
    "import helpers\r\n",
    "\r\n",
    "%load_ext autoreload\r\n",
    "%autoreload"
   ]
  },
  {
   "cell_type": "markdown",
   "metadata": {},
   "source": [
    "## Load Data\r\n",
    "Excel file with top 4 choices for each ballot"
   ]
  },
  {
   "cell_type": "code",
   "execution_count": 4,
   "metadata": {},
   "outputs": [
    {
     "data": {
      "text/html": [
       "<div>\n",
       "<style scoped>\n",
       "    .dataframe tbody tr th:only-of-type {\n",
       "        vertical-align: middle;\n",
       "    }\n",
       "\n",
       "    .dataframe tbody tr th {\n",
       "        vertical-align: top;\n",
       "    }\n",
       "\n",
       "    .dataframe thead th {\n",
       "        text-align: right;\n",
       "    }\n",
       "</style>\n",
       "<table border=\"1\" class=\"dataframe\">\n",
       "  <thead>\n",
       "    <tr style=\"text-align: right;\">\n",
       "      <th></th>\n",
       "      <th>0</th>\n",
       "      <th>1</th>\n",
       "      <th>2</th>\n",
       "      <th>3</th>\n",
       "    </tr>\n",
       "  </thead>\n",
       "  <tbody>\n",
       "    <tr>\n",
       "      <th>0</th>\n",
       "      <td>Bailey, William M.</td>\n",
       "      <td>Bailey, William M.</td>\n",
       "      <td>Bailey, William M.</td>\n",
       "      <td>Bailey, William M.</td>\n",
       "    </tr>\n",
       "    <tr>\n",
       "      <th>1</th>\n",
       "      <td>Bailey, William M.</td>\n",
       "      <td>Bailey, William M.</td>\n",
       "      <td>Bailey, William M.</td>\n",
       "      <td>Bailey, William M.</td>\n",
       "    </tr>\n",
       "    <tr>\n",
       "      <th>2</th>\n",
       "      <td>Bailey, William M.</td>\n",
       "      <td>Bailey, William M.</td>\n",
       "      <td>Bailey, William M.</td>\n",
       "      <td>Bailey, William M.</td>\n",
       "    </tr>\n",
       "    <tr>\n",
       "      <th>3</th>\n",
       "      <td>Bailey, William M.</td>\n",
       "      <td>Bailey, William M.</td>\n",
       "      <td>Bailey, William M.</td>\n",
       "      <td>Bailey, William M.</td>\n",
       "    </tr>\n",
       "    <tr>\n",
       "      <th>4</th>\n",
       "      <td>Bailey, William M.</td>\n",
       "      <td>Bailey, William M.</td>\n",
       "      <td>Bailey, William M.</td>\n",
       "      <td>undervote</td>\n",
       "    </tr>\n",
       "  </tbody>\n",
       "</table>\n",
       "</div>"
      ],
      "text/plain": [
       "                    0                   1                   2  \\\n",
       "0  Bailey, William M.  Bailey, William M.  Bailey, William M.   \n",
       "1  Bailey, William M.  Bailey, William M.  Bailey, William M.   \n",
       "2  Bailey, William M.  Bailey, William M.  Bailey, William M.   \n",
       "3  Bailey, William M.  Bailey, William M.  Bailey, William M.   \n",
       "4  Bailey, William M.  Bailey, William M.  Bailey, William M.   \n",
       "\n",
       "                    3  \n",
       "0  Bailey, William M.  \n",
       "1  Bailey, William M.  \n",
       "2  Bailey, William M.  \n",
       "3  Bailey, William M.  \n",
       "4           undervote  "
      ]
     },
     "execution_count": 4,
     "metadata": {},
     "output_type": "execute_result"
    }
   ],
   "source": [
    "path = Path('..\\\\data\\\\2020 Portland Charter Commission Election Analysis\\\\Top-4.xlsx')\r\n",
    "\r\n",
    "data = pd.read_excel(path, engine='openpyxl', header=None)\r\n",
    "data.head()"
   ]
  },
  {
   "cell_type": "code",
   "execution_count": 65,
   "metadata": {},
   "outputs": [],
   "source": [
    "def to_percent(num):\r\n",
    "  return f\"{num:.1%}\""
   ]
  },
  {
   "cell_type": "markdown",
   "metadata": {},
   "source": [
    "## Let's crunch the data a little to make it easier to analyze\r\n",
    "Which winners did people vote for?\r\n",
    "\r\n",
    "How many councilors did each ballot successfully vote in, i.e. \"wins\"?\r\n",
    "\r\n",
    "We'll also set up some filters to use later."
   ]
  },
  {
   "cell_type": "code",
   "execution_count": 66,
   "metadata": {},
   "outputs": [],
   "source": [
    "# Setup constants for each candidate & the election winners\r\n",
    "all_candidates = BAILEY, BUXTON, CHANN, CONDREY, DIMILLO, EMERSON, GRANT, HOUSEAL, ROVELTO, SHEIKH, WASHBURN = [\r\n",
    "  'Bailey, William M.', 'Buxton, Catherine A.', 'Chann, Marpheen S.',\r\n",
    "  'Condrey, Lawson T.', 'DiMillo, Steven A.', 'Emerson, Anthony M.',\r\n",
    "  'Grant, Benjamin K.', 'Houseal, Ian P.', 'Rovelto, Hope R.',\r\n",
    "  'Sheikh-Yousef, Nasreen A.', 'Washburn, Patricia J.']\r\n",
    "winners = [CHANN, SHEIKH, BUXTON, WASHBURN]\r\n",
    "non_winners = list(set(all_candidates) - set(winners))"
   ]
  },
  {
   "cell_type": "code",
   "execution_count": 67,
   "metadata": {},
   "outputs": [
    {
     "data": {
      "text/html": [
       "<div>\n",
       "<style scoped>\n",
       "    .dataframe tbody tr th:only-of-type {\n",
       "        vertical-align: middle;\n",
       "    }\n",
       "\n",
       "    .dataframe tbody tr th {\n",
       "        vertical-align: top;\n",
       "    }\n",
       "\n",
       "    .dataframe thead th {\n",
       "        text-align: right;\n",
       "    }\n",
       "</style>\n",
       "<table border=\"1\" class=\"dataframe\">\n",
       "  <thead>\n",
       "    <tr style=\"text-align: right;\">\n",
       "      <th></th>\n",
       "      <th>0</th>\n",
       "      <th>1</th>\n",
       "      <th>2</th>\n",
       "      <th>3</th>\n",
       "      <th>Chann, Marpheen S.</th>\n",
       "      <th>Sheikh-Yousef, Nasreen A.</th>\n",
       "      <th>Buxton, Catherine A.</th>\n",
       "      <th>Washburn, Patricia J.</th>\n",
       "      <th>wins</th>\n",
       "      <th>Bailey, William M.</th>\n",
       "      <th>Condrey, Lawson T.</th>\n",
       "      <th>DiMillo, Steven A.</th>\n",
       "      <th>Emerson, Anthony M.</th>\n",
       "      <th>Grant, Benjamin K.</th>\n",
       "      <th>Houseal, Ian P.</th>\n",
       "      <th>Rovelto, Hope R.</th>\n",
       "    </tr>\n",
       "  </thead>\n",
       "  <tbody>\n",
       "    <tr>\n",
       "      <th>0</th>\n",
       "      <td>Bailey, William M.</td>\n",
       "      <td>Bailey, William M.</td>\n",
       "      <td>Bailey, William M.</td>\n",
       "      <td>Bailey, William M.</td>\n",
       "      <td>False</td>\n",
       "      <td>False</td>\n",
       "      <td>False</td>\n",
       "      <td>False</td>\n",
       "      <td>0</td>\n",
       "      <td>True</td>\n",
       "      <td>False</td>\n",
       "      <td>False</td>\n",
       "      <td>False</td>\n",
       "      <td>False</td>\n",
       "      <td>False</td>\n",
       "      <td>False</td>\n",
       "    </tr>\n",
       "    <tr>\n",
       "      <th>1</th>\n",
       "      <td>Bailey, William M.</td>\n",
       "      <td>Bailey, William M.</td>\n",
       "      <td>Bailey, William M.</td>\n",
       "      <td>Bailey, William M.</td>\n",
       "      <td>False</td>\n",
       "      <td>False</td>\n",
       "      <td>False</td>\n",
       "      <td>False</td>\n",
       "      <td>0</td>\n",
       "      <td>True</td>\n",
       "      <td>False</td>\n",
       "      <td>False</td>\n",
       "      <td>False</td>\n",
       "      <td>False</td>\n",
       "      <td>False</td>\n",
       "      <td>False</td>\n",
       "    </tr>\n",
       "    <tr>\n",
       "      <th>2</th>\n",
       "      <td>Bailey, William M.</td>\n",
       "      <td>Bailey, William M.</td>\n",
       "      <td>Bailey, William M.</td>\n",
       "      <td>Bailey, William M.</td>\n",
       "      <td>False</td>\n",
       "      <td>False</td>\n",
       "      <td>False</td>\n",
       "      <td>False</td>\n",
       "      <td>0</td>\n",
       "      <td>True</td>\n",
       "      <td>False</td>\n",
       "      <td>False</td>\n",
       "      <td>False</td>\n",
       "      <td>False</td>\n",
       "      <td>False</td>\n",
       "      <td>False</td>\n",
       "    </tr>\n",
       "    <tr>\n",
       "      <th>3</th>\n",
       "      <td>Bailey, William M.</td>\n",
       "      <td>Bailey, William M.</td>\n",
       "      <td>Bailey, William M.</td>\n",
       "      <td>Bailey, William M.</td>\n",
       "      <td>False</td>\n",
       "      <td>False</td>\n",
       "      <td>False</td>\n",
       "      <td>False</td>\n",
       "      <td>0</td>\n",
       "      <td>True</td>\n",
       "      <td>False</td>\n",
       "      <td>False</td>\n",
       "      <td>False</td>\n",
       "      <td>False</td>\n",
       "      <td>False</td>\n",
       "      <td>False</td>\n",
       "    </tr>\n",
       "    <tr>\n",
       "      <th>4</th>\n",
       "      <td>Bailey, William M.</td>\n",
       "      <td>Bailey, William M.</td>\n",
       "      <td>Bailey, William M.</td>\n",
       "      <td>undervote</td>\n",
       "      <td>False</td>\n",
       "      <td>False</td>\n",
       "      <td>False</td>\n",
       "      <td>False</td>\n",
       "      <td>0</td>\n",
       "      <td>True</td>\n",
       "      <td>False</td>\n",
       "      <td>False</td>\n",
       "      <td>False</td>\n",
       "      <td>False</td>\n",
       "      <td>False</td>\n",
       "      <td>False</td>\n",
       "    </tr>\n",
       "  </tbody>\n",
       "</table>\n",
       "</div>"
      ],
      "text/plain": [
       "                    0                   1                   2  \\\n",
       "0  Bailey, William M.  Bailey, William M.  Bailey, William M.   \n",
       "1  Bailey, William M.  Bailey, William M.  Bailey, William M.   \n",
       "2  Bailey, William M.  Bailey, William M.  Bailey, William M.   \n",
       "3  Bailey, William M.  Bailey, William M.  Bailey, William M.   \n",
       "4  Bailey, William M.  Bailey, William M.  Bailey, William M.   \n",
       "\n",
       "                    3  Chann, Marpheen S.  Sheikh-Yousef, Nasreen A.  \\\n",
       "0  Bailey, William M.               False                      False   \n",
       "1  Bailey, William M.               False                      False   \n",
       "2  Bailey, William M.               False                      False   \n",
       "3  Bailey, William M.               False                      False   \n",
       "4           undervote               False                      False   \n",
       "\n",
       "   Buxton, Catherine A.  Washburn, Patricia J.  wins  Bailey, William M.  \\\n",
       "0                 False                  False     0                True   \n",
       "1                 False                  False     0                True   \n",
       "2                 False                  False     0                True   \n",
       "3                 False                  False     0                True   \n",
       "4                 False                  False     0                True   \n",
       "\n",
       "   Condrey, Lawson T.  DiMillo, Steven A.  Emerson, Anthony M.  \\\n",
       "0               False               False                False   \n",
       "1               False               False                False   \n",
       "2               False               False                False   \n",
       "3               False               False                False   \n",
       "4               False               False                False   \n",
       "\n",
       "   Grant, Benjamin K.  Houseal, Ian P.  Rovelto, Hope R.  \n",
       "0               False            False             False  \n",
       "1               False            False             False  \n",
       "2               False            False             False  \n",
       "3               False            False             False  \n",
       "4               False            False             False  "
      ]
     },
     "execution_count": 67,
     "metadata": {},
     "output_type": "execute_result"
    }
   ],
   "source": [
    "# Find which votes won & count/sum them up for each row/voter\r\n",
    "for c in all_candidates:\r\n",
    "  data[c] = data.apply(lambda vote: vote == c).apply(np.any, axis=1)\r\n",
    "\r\n",
    "data['wins'] = data[winners].apply(np.sum, axis=1)\r\n",
    "\r\n",
    "data.head()"
   ]
  },
  {
   "cell_type": "markdown",
   "metadata": {},
   "source": [
    "## How well were people represented?\r\n",
    "How many people got 0-4 \"wins\"?\r\n",
    "\r\n"
   ]
  },
  {
   "cell_type": "code",
   "execution_count": 68,
   "metadata": {},
   "outputs": [
    {
     "data": {
      "text/plain": [
       "wins\n",
       "0    15.3%\n",
       "1    25.3%\n",
       "2    22.1%\n",
       "3    32.2%\n",
       "4     5.1%\n",
       "Name: 0, dtype: object"
      ]
     },
     "execution_count": 68,
     "metadata": {},
     "output_type": "execute_result"
    }
   ],
   "source": [
    "(data.groupby('wins')[0].count() / len(data)).apply(to_percent)"
   ]
  },
  {
   "cell_type": "markdown",
   "metadata": {},
   "source": [
    "* Unfortunately, 15% of people got none of their top 4 choices.\r\n",
    "* 59% of people got 2 or more of their top 4 choices.\r\n",
    "\r\n",
    "It's certainly great to get as much representation as possible, but we're leaving a lot of people behind. Could a different set of candidates represent Portland more completely?\r\n",
    "\r\n",
    "Let's start by identifying which winners tended to be voted in together."
   ]
  },
  {
   "cell_type": "code",
   "execution_count": 69,
   "metadata": {},
   "outputs": [
    {
     "data": {
      "text/html": [
       "<style  type=\"text/css\" >\n",
       "#T_8d93b_row1_col4,#T_8d93b_row2_col3,#T_8d93b_row3_col2,#T_8d93b_row4_col1,#T_8d93b_row5_col3,#T_8d93b_row5_col4,#T_8d93b_row6_col2,#T_8d93b_row6_col4,#T_8d93b_row7_col2,#T_8d93b_row7_col3,#T_8d93b_row8_col1,#T_8d93b_row8_col4,#T_8d93b_row9_col1,#T_8d93b_row9_col3,#T_8d93b_row10_col1,#T_8d93b_row10_col2,#T_8d93b_row11_col2,#T_8d93b_row11_col3,#T_8d93b_row11_col4,#T_8d93b_row12_col1,#T_8d93b_row12_col3,#T_8d93b_row12_col4,#T_8d93b_row13_col1,#T_8d93b_row13_col2,#T_8d93b_row13_col4,#T_8d93b_row14_col1,#T_8d93b_row14_col2,#T_8d93b_row14_col3,#T_8d93b_row15_col1,#T_8d93b_row15_col2,#T_8d93b_row15_col3,#T_8d93b_row15_col4{\n",
       "            color:  green;\n",
       "        }</style><table id=\"T_8d93b_\" ><thead>    <tr>        <th class=\"blank level0\" ></th>        <th class=\"col_heading level0 col0\" >wins</th>        <th class=\"col_heading level0 col1\" >Chann, Marpheen S.</th>        <th class=\"col_heading level0 col2\" >Sheikh-Yousef, Nasreen A.</th>        <th class=\"col_heading level0 col3\" >Buxton, Catherine A.</th>        <th class=\"col_heading level0 col4\" >Washburn, Patricia J.</th>        <th class=\"col_heading level0 col5\" >Votes</th>        <th class=\"col_heading level0 col6\" >%</th>    </tr></thead><tbody>\n",
       "                <tr>\n",
       "                        <th id=\"T_8d93b_level0_row0\" class=\"row_heading level0 row0\" >0</th>\n",
       "                        <td id=\"T_8d93b_row0_col0\" class=\"data row0 col0\" >0</td>\n",
       "                        <td id=\"T_8d93b_row0_col1\" class=\"data row0 col1\" >False</td>\n",
       "                        <td id=\"T_8d93b_row0_col2\" class=\"data row0 col2\" >False</td>\n",
       "                        <td id=\"T_8d93b_row0_col3\" class=\"data row0 col3\" >False</td>\n",
       "                        <td id=\"T_8d93b_row0_col4\" class=\"data row0 col4\" >False</td>\n",
       "                        <td id=\"T_8d93b_row0_col5\" class=\"data row0 col5\" >1346</td>\n",
       "                        <td id=\"T_8d93b_row0_col6\" class=\"data row0 col6\" >15.3%</td>\n",
       "            </tr>\n",
       "            <tr>\n",
       "                        <th id=\"T_8d93b_level0_row1\" class=\"row_heading level0 row1\" >1</th>\n",
       "                        <td id=\"T_8d93b_row1_col0\" class=\"data row1 col0\" >1</td>\n",
       "                        <td id=\"T_8d93b_row1_col1\" class=\"data row1 col1\" >False</td>\n",
       "                        <td id=\"T_8d93b_row1_col2\" class=\"data row1 col2\" >False</td>\n",
       "                        <td id=\"T_8d93b_row1_col3\" class=\"data row1 col3\" >False</td>\n",
       "                        <td id=\"T_8d93b_row1_col4\" class=\"data row1 col4\" >True</td>\n",
       "                        <td id=\"T_8d93b_row1_col5\" class=\"data row1 col5\" >118</td>\n",
       "                        <td id=\"T_8d93b_row1_col6\" class=\"data row1 col6\" >1.3%</td>\n",
       "            </tr>\n",
       "            <tr>\n",
       "                        <th id=\"T_8d93b_level0_row2\" class=\"row_heading level0 row2\" >2</th>\n",
       "                        <td id=\"T_8d93b_row2_col0\" class=\"data row2 col0\" >1</td>\n",
       "                        <td id=\"T_8d93b_row2_col1\" class=\"data row2 col1\" >False</td>\n",
       "                        <td id=\"T_8d93b_row2_col2\" class=\"data row2 col2\" >False</td>\n",
       "                        <td id=\"T_8d93b_row2_col3\" class=\"data row2 col3\" >True</td>\n",
       "                        <td id=\"T_8d93b_row2_col4\" class=\"data row2 col4\" >False</td>\n",
       "                        <td id=\"T_8d93b_row2_col5\" class=\"data row2 col5\" >250</td>\n",
       "                        <td id=\"T_8d93b_row2_col6\" class=\"data row2 col6\" >2.8%</td>\n",
       "            </tr>\n",
       "            <tr>\n",
       "                        <th id=\"T_8d93b_level0_row3\" class=\"row_heading level0 row3\" >3</th>\n",
       "                        <td id=\"T_8d93b_row3_col0\" class=\"data row3 col0\" >1</td>\n",
       "                        <td id=\"T_8d93b_row3_col1\" class=\"data row3 col1\" >False</td>\n",
       "                        <td id=\"T_8d93b_row3_col2\" class=\"data row3 col2\" >True</td>\n",
       "                        <td id=\"T_8d93b_row3_col3\" class=\"data row3 col3\" >False</td>\n",
       "                        <td id=\"T_8d93b_row3_col4\" class=\"data row3 col4\" >False</td>\n",
       "                        <td id=\"T_8d93b_row3_col5\" class=\"data row3 col5\" >188</td>\n",
       "                        <td id=\"T_8d93b_row3_col6\" class=\"data row3 col6\" >2.1%</td>\n",
       "            </tr>\n",
       "            <tr>\n",
       "                        <th id=\"T_8d93b_level0_row4\" class=\"row_heading level0 row4\" >4</th>\n",
       "                        <td id=\"T_8d93b_row4_col0\" class=\"data row4 col0\" >1</td>\n",
       "                        <td id=\"T_8d93b_row4_col1\" class=\"data row4 col1\" >True</td>\n",
       "                        <td id=\"T_8d93b_row4_col2\" class=\"data row4 col2\" >False</td>\n",
       "                        <td id=\"T_8d93b_row4_col3\" class=\"data row4 col3\" >False</td>\n",
       "                        <td id=\"T_8d93b_row4_col4\" class=\"data row4 col4\" >False</td>\n",
       "                        <td id=\"T_8d93b_row4_col5\" class=\"data row4 col5\" >1668</td>\n",
       "                        <td id=\"T_8d93b_row4_col6\" class=\"data row4 col6\" >19.0%</td>\n",
       "            </tr>\n",
       "            <tr>\n",
       "                        <th id=\"T_8d93b_level0_row5\" class=\"row_heading level0 row5\" >5</th>\n",
       "                        <td id=\"T_8d93b_row5_col0\" class=\"data row5 col0\" >2</td>\n",
       "                        <td id=\"T_8d93b_row5_col1\" class=\"data row5 col1\" >False</td>\n",
       "                        <td id=\"T_8d93b_row5_col2\" class=\"data row5 col2\" >False</td>\n",
       "                        <td id=\"T_8d93b_row5_col3\" class=\"data row5 col3\" >True</td>\n",
       "                        <td id=\"T_8d93b_row5_col4\" class=\"data row5 col4\" >True</td>\n",
       "                        <td id=\"T_8d93b_row5_col5\" class=\"data row5 col5\" >143</td>\n",
       "                        <td id=\"T_8d93b_row5_col6\" class=\"data row5 col6\" >1.6%</td>\n",
       "            </tr>\n",
       "            <tr>\n",
       "                        <th id=\"T_8d93b_level0_row6\" class=\"row_heading level0 row6\" >6</th>\n",
       "                        <td id=\"T_8d93b_row6_col0\" class=\"data row6 col0\" >2</td>\n",
       "                        <td id=\"T_8d93b_row6_col1\" class=\"data row6 col1\" >False</td>\n",
       "                        <td id=\"T_8d93b_row6_col2\" class=\"data row6 col2\" >True</td>\n",
       "                        <td id=\"T_8d93b_row6_col3\" class=\"data row6 col3\" >False</td>\n",
       "                        <td id=\"T_8d93b_row6_col4\" class=\"data row6 col4\" >True</td>\n",
       "                        <td id=\"T_8d93b_row6_col5\" class=\"data row6 col5\" >144</td>\n",
       "                        <td id=\"T_8d93b_row6_col6\" class=\"data row6 col6\" >1.6%</td>\n",
       "            </tr>\n",
       "            <tr>\n",
       "                        <th id=\"T_8d93b_level0_row7\" class=\"row_heading level0 row7\" >7</th>\n",
       "                        <td id=\"T_8d93b_row7_col0\" class=\"data row7 col0\" >2</td>\n",
       "                        <td id=\"T_8d93b_row7_col1\" class=\"data row7 col1\" >False</td>\n",
       "                        <td id=\"T_8d93b_row7_col2\" class=\"data row7 col2\" >True</td>\n",
       "                        <td id=\"T_8d93b_row7_col3\" class=\"data row7 col3\" >True</td>\n",
       "                        <td id=\"T_8d93b_row7_col4\" class=\"data row7 col4\" >False</td>\n",
       "                        <td id=\"T_8d93b_row7_col5\" class=\"data row7 col5\" >477</td>\n",
       "                        <td id=\"T_8d93b_row7_col6\" class=\"data row7 col6\" >5.4%</td>\n",
       "            </tr>\n",
       "            <tr>\n",
       "                        <th id=\"T_8d93b_level0_row8\" class=\"row_heading level0 row8\" >8</th>\n",
       "                        <td id=\"T_8d93b_row8_col0\" class=\"data row8 col0\" >2</td>\n",
       "                        <td id=\"T_8d93b_row8_col1\" class=\"data row8 col1\" >True</td>\n",
       "                        <td id=\"T_8d93b_row8_col2\" class=\"data row8 col2\" >False</td>\n",
       "                        <td id=\"T_8d93b_row8_col3\" class=\"data row8 col3\" >False</td>\n",
       "                        <td id=\"T_8d93b_row8_col4\" class=\"data row8 col4\" >True</td>\n",
       "                        <td id=\"T_8d93b_row8_col5\" class=\"data row8 col5\" >150</td>\n",
       "                        <td id=\"T_8d93b_row8_col6\" class=\"data row8 col6\" >1.7%</td>\n",
       "            </tr>\n",
       "            <tr>\n",
       "                        <th id=\"T_8d93b_level0_row9\" class=\"row_heading level0 row9\" >9</th>\n",
       "                        <td id=\"T_8d93b_row9_col0\" class=\"data row9 col0\" >2</td>\n",
       "                        <td id=\"T_8d93b_row9_col1\" class=\"data row9 col1\" >True</td>\n",
       "                        <td id=\"T_8d93b_row9_col2\" class=\"data row9 col2\" >False</td>\n",
       "                        <td id=\"T_8d93b_row9_col3\" class=\"data row9 col3\" >True</td>\n",
       "                        <td id=\"T_8d93b_row9_col4\" class=\"data row9 col4\" >False</td>\n",
       "                        <td id=\"T_8d93b_row9_col5\" class=\"data row9 col5\" >536</td>\n",
       "                        <td id=\"T_8d93b_row9_col6\" class=\"data row9 col6\" >6.1%</td>\n",
       "            </tr>\n",
       "            <tr>\n",
       "                        <th id=\"T_8d93b_level0_row10\" class=\"row_heading level0 row10\" >10</th>\n",
       "                        <td id=\"T_8d93b_row10_col0\" class=\"data row10 col0\" >2</td>\n",
       "                        <td id=\"T_8d93b_row10_col1\" class=\"data row10 col1\" >True</td>\n",
       "                        <td id=\"T_8d93b_row10_col2\" class=\"data row10 col2\" >True</td>\n",
       "                        <td id=\"T_8d93b_row10_col3\" class=\"data row10 col3\" >False</td>\n",
       "                        <td id=\"T_8d93b_row10_col4\" class=\"data row10 col4\" >False</td>\n",
       "                        <td id=\"T_8d93b_row10_col5\" class=\"data row10 col5\" >490</td>\n",
       "                        <td id=\"T_8d93b_row10_col6\" class=\"data row10 col6\" >5.6%</td>\n",
       "            </tr>\n",
       "            <tr>\n",
       "                        <th id=\"T_8d93b_level0_row11\" class=\"row_heading level0 row11\" >11</th>\n",
       "                        <td id=\"T_8d93b_row11_col0\" class=\"data row11 col0\" >3</td>\n",
       "                        <td id=\"T_8d93b_row11_col1\" class=\"data row11 col1\" >False</td>\n",
       "                        <td id=\"T_8d93b_row11_col2\" class=\"data row11 col2\" >True</td>\n",
       "                        <td id=\"T_8d93b_row11_col3\" class=\"data row11 col3\" >True</td>\n",
       "                        <td id=\"T_8d93b_row11_col4\" class=\"data row11 col4\" >True</td>\n",
       "                        <td id=\"T_8d93b_row11_col5\" class=\"data row11 col5\" >1718</td>\n",
       "                        <td id=\"T_8d93b_row11_col6\" class=\"data row11 col6\" >19.5%</td>\n",
       "            </tr>\n",
       "            <tr>\n",
       "                        <th id=\"T_8d93b_level0_row12\" class=\"row_heading level0 row12\" >12</th>\n",
       "                        <td id=\"T_8d93b_row12_col0\" class=\"data row12 col0\" >3</td>\n",
       "                        <td id=\"T_8d93b_row12_col1\" class=\"data row12 col1\" >True</td>\n",
       "                        <td id=\"T_8d93b_row12_col2\" class=\"data row12 col2\" >False</td>\n",
       "                        <td id=\"T_8d93b_row12_col3\" class=\"data row12 col3\" >True</td>\n",
       "                        <td id=\"T_8d93b_row12_col4\" class=\"data row12 col4\" >True</td>\n",
       "                        <td id=\"T_8d93b_row12_col5\" class=\"data row12 col5\" >142</td>\n",
       "                        <td id=\"T_8d93b_row12_col6\" class=\"data row12 col6\" >1.6%</td>\n",
       "            </tr>\n",
       "            <tr>\n",
       "                        <th id=\"T_8d93b_level0_row13\" class=\"row_heading level0 row13\" >13</th>\n",
       "                        <td id=\"T_8d93b_row13_col0\" class=\"data row13 col0\" >3</td>\n",
       "                        <td id=\"T_8d93b_row13_col1\" class=\"data row13 col1\" >True</td>\n",
       "                        <td id=\"T_8d93b_row13_col2\" class=\"data row13 col2\" >True</td>\n",
       "                        <td id=\"T_8d93b_row13_col3\" class=\"data row13 col3\" >False</td>\n",
       "                        <td id=\"T_8d93b_row13_col4\" class=\"data row13 col4\" >True</td>\n",
       "                        <td id=\"T_8d93b_row13_col5\" class=\"data row13 col5\" >246</td>\n",
       "                        <td id=\"T_8d93b_row13_col6\" class=\"data row13 col6\" >2.8%</td>\n",
       "            </tr>\n",
       "            <tr>\n",
       "                        <th id=\"T_8d93b_level0_row14\" class=\"row_heading level0 row14\" >14</th>\n",
       "                        <td id=\"T_8d93b_row14_col0\" class=\"data row14 col0\" >3</td>\n",
       "                        <td id=\"T_8d93b_row14_col1\" class=\"data row14 col1\" >True</td>\n",
       "                        <td id=\"T_8d93b_row14_col2\" class=\"data row14 col2\" >True</td>\n",
       "                        <td id=\"T_8d93b_row14_col3\" class=\"data row14 col3\" >True</td>\n",
       "                        <td id=\"T_8d93b_row14_col4\" class=\"data row14 col4\" >False</td>\n",
       "                        <td id=\"T_8d93b_row14_col5\" class=\"data row14 col5\" >722</td>\n",
       "                        <td id=\"T_8d93b_row14_col6\" class=\"data row14 col6\" >8.2%</td>\n",
       "            </tr>\n",
       "            <tr>\n",
       "                        <th id=\"T_8d93b_level0_row15\" class=\"row_heading level0 row15\" >15</th>\n",
       "                        <td id=\"T_8d93b_row15_col0\" class=\"data row15 col0\" >4</td>\n",
       "                        <td id=\"T_8d93b_row15_col1\" class=\"data row15 col1\" >True</td>\n",
       "                        <td id=\"T_8d93b_row15_col2\" class=\"data row15 col2\" >True</td>\n",
       "                        <td id=\"T_8d93b_row15_col3\" class=\"data row15 col3\" >True</td>\n",
       "                        <td id=\"T_8d93b_row15_col4\" class=\"data row15 col4\" >True</td>\n",
       "                        <td id=\"T_8d93b_row15_col5\" class=\"data row15 col5\" >451</td>\n",
       "                        <td id=\"T_8d93b_row15_col6\" class=\"data row15 col6\" >5.1%</td>\n",
       "            </tr>\n",
       "    </tbody></table>"
      ],
      "text/plain": [
       "<pandas.io.formats.style.Styler at 0x283d0c191f0>"
      ]
     },
     "execution_count": 69,
     "metadata": {},
     "output_type": "execute_result"
    }
   ],
   "source": [
    "win_patterns = data.groupby(['wins'] + winners).size().to_frame(name='Votes')\r\n",
    "win_patterns['%'] = (win_patterns['Votes'] / len(data)).apply(to_percent)\r\n",
    "def color_bool(val):\r\n",
    "  if val == True: return 'color: green'\r\n",
    "win_patterns.reset_index().style.applymap(color_bool, subset=pd.IndexSlice[:, winners])"
   ]
  },
  {
   "cell_type": "markdown",
   "metadata": {},
   "source": [
    "Essentially a 4-part venn diagram of how people voted for the winners. The middle rows show which winners were on a ballot. \r\n",
    "\r\n",
    "We again see 15.3% got 0/4 choices and 5.1% got 4/4 choices (line 0 and 15, respectively).\r\n",
    "\r\n",
    "Looking at the single winner ballots (lines 1-4) we see all the voers represented by just 1 of the 4 winners. This shows how many people would lose all their representation if we removed any one of the Commissioner Elects:\r\n",
    "\r\n",
    " * 19% of voters were represented solely by Marpheen Chan\r\n",
    " * < 3% of voters were represented solely by any of  Sheikh-Yousef, Buxton and Washburn (who campaigned together), including\r\n",
    " * 1.3% of voters represented solely by Patricia Washburn\r\n",
    "\r\n",
    "The rest of the data shows a lot more overlap between the three coalition candiates:\r\n",
    "\r\n",
    " * 19.5% of voters voted for all 3\r\n",
    " * Only 5% of voters lose represention removing both Sheikh-Yousef and Washburn would only leave 5% more voters representation. (lines 1, 3, 6 show 1.3% and 2.1% individually, 1.6% together).\r\n",
    " * i.e. 80% of voters are represented by just Marpheen Chan and Catherine Buxton (actual 85% - 5%). Let's double check that."
   ]
  },
  {
   "cell_type": "code",
   "execution_count": 70,
   "metadata": {},
   "outputs": [
    {
     "data": {
      "text/plain": [
       "'79.6%'"
      ]
     },
     "execution_count": 70,
     "metadata": {},
     "output_type": "execute_result"
    }
   ],
   "source": [
    "to_percent(sum(data[CHANN] | data[BUXTON]) / len(data))"
   ]
  },
  {
   "cell_type": "markdown",
   "metadata": {},
   "source": [
    "## Can We Do Better?\r\n",
    "\r\n",
    "Is there a set of candidates that would represent more than 85% of the population?"
   ]
  },
  {
   "cell_type": "markdown",
   "metadata": {},
   "source": [
    "### Replacing Washburn\r\n",
    "For starters, let's see how the unrepresented population voted if we remove Washburn, the least individually popular candidate.  and see how the unrepresented (now ~17%) voted. "
   ]
  },
  {
   "cell_type": "code",
   "execution_count": 79,
   "metadata": {},
   "outputs": [
    {
     "data": {
      "text/plain": [
       "DiMillo, Steven A.       13.7%\n",
       "Bailey, William M.        7.5%\n",
       "Grant, Benjamin K.        5.2%\n",
       "Houseal, Ian P.           4.4%\n",
       "Condrey, Lawson T.        2.8%\n",
       "Emerson, Anthony M.       1.7%\n",
       "Washburn, Patricia J.     1.3%\n",
       "Rovelto, Hope R.          0.3%\n",
       "dtype: object"
      ]
     },
     "execution_count": 79,
     "metadata": {},
     "output_type": "execute_result"
    }
   ],
   "source": [
    "only_washburn = data['wins'] == 1 & data[WASHBURN]\r\n",
    "\r\n",
    "votes_without_washburn = data[(data['wins'] == 0) | only_washburn][non_winners + [WASHBURN]].sum()\r\n",
    "(votes_without_washburn / len(data)).sort_values(ascending=False).apply(to_percent)"
   ]
  },
  {
   "cell_type": "markdown",
   "metadata": {},
   "source": [
    "As it happens, Washburn was the second least popular among this group. Switching Washburn out for Dimillo gives us +12.4% representation (13.7% - 1.3%), bringing us to a whopping 97%!!"
   ]
  },
  {
   "cell_type": "code",
   "execution_count": 74,
   "metadata": {},
   "outputs": [
    {
     "data": {
      "text/plain": [
       "'97.1%'"
      ]
     },
     "execution_count": 74,
     "metadata": {},
     "output_type": "execute_result"
    }
   ],
   "source": [
    "to_percent(np.sum(data[CHANN] | data[SHEIKH] | data[BUXTON] | data[DIMILLO]) / len(data))"
   ]
  },
  {
   "cell_type": "markdown",
   "metadata": {},
   "source": [
    "### Replacing Washburn AND Sheih-Yousef\r\n",
    "\r\n",
    "Let's see if we can do any better replacing the pair least critical to our representation %"
   ]
  },
  {
   "cell_type": "code",
   "execution_count": 85,
   "metadata": {},
   "outputs": [
    {
     "data": {
      "text/html": [
       "<div>\n",
       "<style scoped>\n",
       "    .dataframe tbody tr th:only-of-type {\n",
       "        vertical-align: middle;\n",
       "    }\n",
       "\n",
       "    .dataframe tbody tr th {\n",
       "        vertical-align: top;\n",
       "    }\n",
       "\n",
       "    .dataframe thead th {\n",
       "        text-align: right;\n",
       "    }\n",
       "</style>\n",
       "<table border=\"1\" class=\"dataframe\">\n",
       "  <thead>\n",
       "    <tr style=\"text-align: right;\">\n",
       "      <th></th>\n",
       "      <th>Replacement 1</th>\n",
       "      <th>Replacement 2</th>\n",
       "      <th>Votes</th>\n",
       "      <th>%</th>\n",
       "    </tr>\n",
       "  </thead>\n",
       "  <tbody>\n",
       "    <tr>\n",
       "      <th>0</th>\n",
       "      <td>Houseal, Ian P.</td>\n",
       "      <td>DiMillo, Steven A.</td>\n",
       "      <td>8382</td>\n",
       "      <td>95.4%</td>\n",
       "    </tr>\n",
       "    <tr>\n",
       "      <th>2</th>\n",
       "      <td>Houseal, Ian P.</td>\n",
       "      <td>Grant, Benjamin K.</td>\n",
       "      <td>7822</td>\n",
       "      <td>89.0%</td>\n",
       "    </tr>\n",
       "    <tr>\n",
       "      <th>1</th>\n",
       "      <td>Houseal, Ian P.</td>\n",
       "      <td>Emerson, Anthony M.</td>\n",
       "      <td>7633</td>\n",
       "      <td>86.8%</td>\n",
       "    </tr>\n",
       "  </tbody>\n",
       "</table>\n",
       "</div>"
      ],
      "text/plain": [
       "     Replacement 1        Replacement 2  Votes      %\n",
       "0  Houseal, Ian P.   DiMillo, Steven A.   8382  95.4%\n",
       "2  Houseal, Ian P.   Grant, Benjamin K.   7822  89.0%\n",
       "1  Houseal, Ian P.  Emerson, Anthony M.   7633  86.8%"
      ]
     },
     "execution_count": 85,
     "metadata": {},
     "output_type": "execute_result"
    }
   ],
   "source": [
    "other_candidates = non_winners + [SHEIKH, WASHBURN]\r\n",
    "\r\n",
    "def rep_voters(c1, c2):\r\n",
    "  return sum(data[[CHANN, BUXTON, c1, c2]].apply(np.any, axis=1))\r\n",
    "hypothetical_replacement_rep = [[c1, c2, rep_voters(c1, c2)] for c1, c2 in combinations(other_candidates, 2)]\r\n",
    "\r\n",
    "hypothetical_voting = pd.DataFrame(hypothetical_replacement_rep, columns=['Replacement 1', 'Replacement 2', 'Votes'])\r\n",
    "hypothetical_voting = hypothetical_voting.sort_values('Votes', ascending=False)\r\n",
    "hypothetical_voting['%'] = (hypothetical_voting['Votes'] / len(data)).apply(to_percent)\r\n",
    "hypothetical_voting"
   ]
  },
  {
   "cell_type": "markdown",
   "metadata": {},
   "source": [
    " * 97.2%, Dimillo & Grant gives our best representation, although negligably beating out.\r\n",
    " * 97.1%, Dimillo & Sheikh (i.e. the Washburn -> Dimillo replacement we looked at earlier.\r\n",
    " * Dimillo is critical to expanding representation, appearing in the top 8 pairs."
   ]
  },
  {
   "cell_type": "markdown",
   "metadata": {},
   "source": [
    "# Conclusions"
   ]
  }
 ],
 "metadata": {
  "interpreter": {
   "hash": "b45272cb03f1da4333059715d6624bdf45d43002ce0c27e417e1233f3312feb9"
  },
  "kernelspec": {
   "display_name": "Python 3.6.4 64-bit",
   "name": "python3"
  },
  "language_info": {
   "codemirror_mode": {
    "name": "ipython",
    "version": 3
   },
   "file_extension": ".py",
   "mimetype": "text/x-python",
   "name": "python",
   "nbconvert_exporter": "python",
   "pygments_lexer": "ipython3",
   "version": "3.9.5"
  },
  "orig_nbformat": 4
 },
 "nbformat": 4,
 "nbformat_minor": 2
}