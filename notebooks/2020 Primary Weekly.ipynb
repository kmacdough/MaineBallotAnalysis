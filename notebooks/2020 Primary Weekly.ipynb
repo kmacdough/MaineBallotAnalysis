{
 "cells": [
  {
   "cell_type": "code",
   "execution_count": null,
   "metadata": {},
   "outputs": [],
   "source": [
    "import pandas as pd\n",
    "import numpy as np\n",
    "import re\n",
    "import sys\n",
    "\n",
    "from functools import reduce\n",
    "from datetime import datetime\n",
    "\n",
    "sys.path.append('../src')\n",
    "import helpers\n",
    "\n",
    "%load_ext autoreload\n",
    "%autoreload"
   ]
  },
  {
   "cell_type": "code",
   "execution_count": null,
   "metadata": {},
   "outputs": [],
   "source": [
    "%%time\n",
    "absentee_data_url = 'https://www.maine.gov/sos/cec/elec/data/absentee-voter-file.txt'\n",
    "\n",
    "absentee_data_raw = pd.read_csv(absentee_data_url, sep='|', skipfooter=5, engine='python')"
   ]
  },
  {
   "cell_type": "code",
   "execution_count": null,
   "metadata": {},
   "outputs": [],
   "source": [
    "absentee_data = absentee_data_raw.rename(columns={\n",
    "    \"CG\": \"CONGRESS DIST\",\n",
    "    \"SS\": \"STATE SENATE\",\n",
    "    \"P\": \"PARTY\",\n",
    "\n",
    "})\n",
    "\n",
    "absentee_data['REQDATE'] = absentee_data['REQDATE'].str.replace('/0202', '/2020')\n",
    "absentee_data['REQDATE'] = pd.to_datetime(absentee_data['REQDATE'], format='%m/%d/%Y')"
   ]
  },
  {
   "cell_type": "code",
   "execution_count": null,
   "metadata": {},
   "outputs": [],
   "source": [
    "group_data = absentee_data.set_index('REQDATE')\n",
    "group_data['TOT'] = 1\n",
    "group_data['PARTY-D'] = group_data['PARTY'] == 'D'\n",
    "group_data['PARTY-R'] = group_data['PARTY'] == 'R'\n",
    "group_data['PARTY-G'] = group_data['PARTY'] == 'G'\n",
    "group_data['PARTY-U'] = group_data['PARTY'] == 'U'\n",
    "group_data['CD-1'] = group_data['CONGRESS DIST'] == 1\n",
    "group_data['CD-2'] = group_data['CONGRESS DIST'] == 2\n",
    "group_data['REQTYPE-VOTER/FAMILY'] = group_data['REQTYPE'] == 'WV'\n",
    "group_data['REQTYPE-WRITTEN 3P'] = group_data['REQTYPE'] == 'WP'\n",
    "group_data['REQTYPE-ELECTRONIC'] = group_data['REQTYPE'] == 'ER'\n",
    "group_data['REQTYPE-IN PERSON'] = group_data['REQTYPE'] == 'VP'\n",
    "group_data['REQTYPE-UOCAVA'] = group_data['REQTYPE'] == 'UR'\n",
    "group_data['REQTYPE-PHONE'] = group_data['REQTYPE'] == 'TR'\n",
    "\n",
    "group_columns = ['TOT',\n",
    "                 'PARTY-D', 'PARTY-R', 'PARTY-G', 'PARTY-U',\n",
    "                 'CD-1', 'CD-2',\n",
    "                 'REQTYPE-VOTER/FAMILY', 'REQTYPE-WRITTEN 3P', 'REQTYPE-ELECTRONIC', 'REQTYPE-IN PERSON', 'REQTYPE-UOCAVA', 'REQTYPE-PHONE']\n",
    "data_by_week = group_data[group_columns].resample('W-SAT').sum()\n",
    "\n",
    "recent_data_by_week = data_by_week[datetime(2020, 3, 4):].copy()\n",
    "recent_data_by_week.loc['EARLIER'] = data_by_week[:datetime(2020, 3, 4)].sum()\n",
    "recent_data_by_week = recent_data_by_week.loc[['EARLIER', *recent_data_by_week.index[0:-1]]]\n",
    "recent_data_by_week.loc['TOT'] = recent_data_by_week.sum()\n",
    "recent_data_by_week['AGG-TOT'] = recent_data_by_week['TOT'].cumsum()\n",
    "recent_data_by_week.loc['TOT', 'AGG-TOT'] = 0\n",
    "recent_data_by_week = recent_data_by_week.astype(int)"
   ]
  },
  {
   "cell_type": "code",
   "execution_count": null,
   "metadata": {},
   "outputs": [],
   "source": [
    "recent_data_by_week.to_excel('./out/2020 Primary Weekly Analysis.xlsx')"
   ]
  },
  {
   "cell_type": "code",
   "execution_count": null,
   "metadata": {},
   "outputs": [],
   "source": []
  }
 ],
 "metadata": {
  "language_info": {
   "name": "python",
   "pygments_lexer": "ipython3"
  }
 },
 "nbformat": 4,
 "nbformat_minor": 4
}
